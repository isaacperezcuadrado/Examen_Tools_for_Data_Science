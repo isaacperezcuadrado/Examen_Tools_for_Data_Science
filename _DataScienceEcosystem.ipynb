{
 "cells": [
  {
   "cell_type": "markdown",
   "id": "4afd159f-ee0b-4b66-8b14-a48b91bc5651",
   "metadata": {},
   "source": [
    "Ejercicio 2\n",
    "#  Data Science Tools and Ecosystem"
   ]
  },
  {
   "cell_type": "markdown",
   "id": "4fa857b3-3d8e-4886-942a-6a2f140341d2",
   "metadata": {
    "tags": []
   },
   "source": [
    "-----------------------------"
   ]
  },
  {
   "cell_type": "markdown",
   "id": "d51885ed-80cc-4345-b9df-16c801662b31",
   "metadata": {},
   "source": [
    "Ejercicio 3\n",
    "\n",
    "In this notebook, Data Science Tools and Ecosystem are summarized."
   ]
  },
  {
   "cell_type": "markdown",
   "id": "3a4c2267-155a-48c9-87c3-c90652cf5eeb",
   "metadata": {},
   "source": [
    "----------------------------------------"
   ]
  },
  {
   "cell_type": "markdown",
   "id": "361ac2ad-d408-46f7-bb0c-36f376964532",
   "metadata": {},
   "source": [
    "Ejercicio 10\n",
    "\n",
    "**Learning Objectives**\n",
    "\n",
    "-Create a Jupyter Notebook with markdown and code cells\n",
    "\n",
    "-List examples of languages, libraries and tools used in Data Science\n",
    "\n",
    "-Share your Jupyter Notebook publicly on GitHub\n",
    "\n",
    "-Evaluate notebooks submitted by your peers using the provided rubric\n",
    "\n",
    "-Demonstrate proficiency in Data Science toolkit knowledge"
   ]
  },
  {
   "cell_type": "markdown",
   "id": "905ac553-bb95-427f-bc78-f067a09f372b",
   "metadata": {
    "jp-MarkdownHeadingCollapsed": true,
    "tags": []
   },
   "source": [
    "Ejercicio 4\n",
    "\n",
    "Some of the popular languages that Data Scientists use are:\n",
    "1. Python\n",
    "2. R\n",
    "3. SQL\n",
    "4. SCALA\n",
    "5. Java Powered\n",
    "6. C++\n",
    "7. Julia\n",
    "8. Java Script\n",
    "9. PHP\n",
    "10. Go\n",
    "11. Ruby\n",
    "12. Visual Basic"
   ]
  },
  {
   "cell_type": "markdown",
   "id": "260cd0ce-689f-4ede-9925-189f2bbdde1f",
   "metadata": {},
   "source": [
    "Ejericio 5\n",
    "\n",
    "Some of the commonly used libraries used by Data Scientists include:\n",
    "\n",
    "Pandas\n",
    "\n",
    "NumPy\n",
    "\n",
    "MatPlotlib\n",
    "\n",
    "Scikit-learn\n",
    "\n",
    "TensoFlow\n",
    "\n",
    "Pytorch\n",
    "\n",
    "    "
   ]
  },
  {
   "cell_type": "markdown",
   "id": "6c724022-f476-494f-bee2-a9f9ed3cab9d",
   "metadata": {
    "tags": []
   },
   "source": [
    "Ejercicio 6\n",
    "\n",
    "Data Science Tools\n",
    "1. MySQL\n",
    "2. MongoDB\n",
    "3. Hadoop\n",
    "4. Apache AirFlow\n",
    "5. Apache nifi\n",
    "6. Kivana\n",
    "7. TensoFlow serving"
   ]
  },
  {
   "cell_type": "markdown",
   "id": "cab73088-1ab3-484f-9062-2a98dca3de38",
   "metadata": {},
   "source": [
    "Ejercicio 7\n",
    "### Below are a few examples of evaluating arithmetic expressions in Python\n",
    "[(7+8)(3-1)]-16=(14+16)-16=14\n"
   ]
  },
  {
   "cell_type": "code",
   "execution_count": 21,
   "id": "c26cce05-a1f3-42da-8b7f-584bfa908086",
   "metadata": {
    "tags": []
   },
   "outputs": [
    {
     "data": {
      "text/plain": [
       "17"
      ]
     },
     "execution_count": 21,
     "metadata": {},
     "output_type": "execute_result"
    }
   ],
   "source": [
    "#Ejercicio 8\n",
    "#esta es una expresión aritmética simple para luego agregar números enteros.\n",
    "(3*4)+5"
   ]
  },
  {
   "cell_type": "code",
   "execution_count": 19,
   "id": "a2568c0b-08c2-4257-ba2b-a63f4421c961",
   "metadata": {
    "tags": []
   },
   "outputs": [
    {
     "name": "stdout",
     "output_type": "stream",
     "text": [
      "en 280 hay 4 horas mas 40 minutos\n"
     ]
    }
   ],
   "source": [
    "#Ejercicio 9\n",
    "#convertir minutos en horas\n",
    "# se crea una función que convierta minutos en horas\n",
    "def Hora(num_minutos):  \n",
    "    hora=num_minutos//60\n",
    "    minutos=num_minutos%60\n",
    "    return  print(f'en {num_minutos} hay {hora} horas mas {minutos} minutos')\n",
    "Hora(280)"
   ]
  },
  {
   "cell_type": "markdown",
   "id": "af647a4e-11bf-4098-bf5c-30f94a8e48e9",
   "metadata": {
    "tags": []
   },
   "source": [
    "# Autor\n",
    "\n",
    "*Isaac Manuel Pérez Cuadrado*"
   ]
  },
  {
   "cell_type": "code",
   "execution_count": null,
   "id": "7c0ea79f-f4e4-4a12-9961-b79b7b651ea9",
   "metadata": {},
   "outputs": [],
   "source": []
  },
  {
   "cell_type": "code",
   "execution_count": null,
   "id": "180a32fe-4184-4c92-9ca2-117f5d97f026",
   "metadata": {},
   "outputs": [],
   "source": []
  },
  {
   "cell_type": "code",
   "execution_count": null,
   "id": "3a547d50-08f3-4054-8357-ab9ac0f1643b",
   "metadata": {},
   "outputs": [],
   "source": []
  }
 ],
 "metadata": {
  "kernelspec": {
   "display_name": "Python",
   "language": "python",
   "name": "conda-env-python-py"
  },
  "language_info": {
   "codemirror_mode": {
    "name": "ipython",
    "version": 3
   },
   "file_extension": ".py",
   "mimetype": "text/x-python",
   "name": "python",
   "nbconvert_exporter": "python",
   "pygments_lexer": "ipython3",
   "version": "3.7.12"
  }
 },
 "nbformat": 4,
 "nbformat_minor": 5
}
